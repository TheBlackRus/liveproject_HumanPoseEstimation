{
  "nbformat": 4,
  "nbformat_minor": 0,
  "metadata": {
    "colab": {
      "name": "liveproject_humanpose_02.ipynb",
      "provenance": [],
      "collapsed_sections": [],
      "authorship_tag": "ABX9TyNuku6d6mHp97chNizSV+dN",
      "include_colab_link": true
    },
    "kernelspec": {
      "name": "python3",
      "display_name": "Python 3"
    },
    "accelerator": "GPU"
  },
  "cells": [
    {
      "cell_type": "markdown",
      "metadata": {
        "id": "view-in-github",
        "colab_type": "text"
      },
      "source": [
        "<a href=\"https://colab.research.google.com/github/TheBlackRus/liveproject_HumanPoseEstimation/blob/master/liveproject_humanpose_02.ipynb\" target=\"_parent\"><img src=\"https://colab.research.google.com/assets/colab-badge.svg\" alt=\"Open In Colab\"/></a>"
      ]
    },
    {
      "cell_type": "markdown",
      "metadata": {
        "id": "LeZt0Cu4vpfJ",
        "colab_type": "text"
      },
      "source": [
        "Welcome to part 2. Training of a CNN wiht pytorch"
      ]
    },
    {
      "cell_type": "code",
      "metadata": {
        "id": "DZEqBpQ4ve--",
        "colab_type": "code",
        "outputId": "0662d9a6-b5c2-42e1-c2bf-e0b3968f36e6",
        "colab": {
          "base_uri": "https://localhost:8080/",
          "height": 399
        }
      },
      "source": [
        "!wget http://ufldl.stanford.edu/housenumbers/train_32x32.mat\n",
        "!wget http://ufldl.stanford.edu/housenumbers/test_32x32.mat\n"
      ],
      "execution_count": 1,
      "outputs": [
        {
          "output_type": "stream",
          "text": [
            "--2020-05-03 11:21:00--  http://ufldl.stanford.edu/housenumbers/train_32x32.mat\n",
            "Resolving ufldl.stanford.edu (ufldl.stanford.edu)... 171.64.68.10\n",
            "Connecting to ufldl.stanford.edu (ufldl.stanford.edu)|171.64.68.10|:80... connected.\n",
            "HTTP request sent, awaiting response... 200 OK\n",
            "Length: 182040794 (174M) [text/plain]\n",
            "Saving to: ‘train_32x32.mat’\n",
            "\n",
            "train_32x32.mat     100%[===================>] 173.61M  19.9MB/s    in 12s     \n",
            "\n",
            "2020-05-03 11:21:12 (15.0 MB/s) - ‘train_32x32.mat’ saved [182040794/182040794]\n",
            "\n",
            "--2020-05-03 11:21:14--  http://ufldl.stanford.edu/housenumbers/test_32x32.mat\n",
            "Resolving ufldl.stanford.edu (ufldl.stanford.edu)... 171.64.68.10\n",
            "Connecting to ufldl.stanford.edu (ufldl.stanford.edu)|171.64.68.10|:80... connected.\n",
            "HTTP request sent, awaiting response... 200 OK\n",
            "Length: 64275384 (61M) [text/plain]\n",
            "Saving to: ‘test_32x32.mat’\n",
            "\n",
            "test_32x32.mat      100%[===================>]  61.30M  16.8MB/s    in 6.3s    \n",
            "\n",
            "2020-05-03 11:21:21 (9.68 MB/s) - ‘test_32x32.mat’ saved [64275384/64275384]\n",
            "\n"
          ],
          "name": "stdout"
        }
      ]
    },
    {
      "cell_type": "code",
      "metadata": {
        "id": "1beBFj2THkfv",
        "colab_type": "code",
        "colab": {}
      },
      "source": [
        "\n"
      ],
      "execution_count": 0,
      "outputs": []
    },
    {
      "cell_type": "code",
      "metadata": {
        "id": "86RmcFdOBQR2",
        "colab_type": "code",
        "colab": {}
      },
      "source": [
        "\n"
      ],
      "execution_count": 0,
      "outputs": []
    },
    {
      "cell_type": "code",
      "metadata": {
        "id": "pET54upYGmTD",
        "colab_type": "code",
        "outputId": "31021796-4274-4f42-a695-36ce4d984da3",
        "colab": {
          "base_uri": "https://localhost:8080/",
          "height": 52
        }
      },
      "source": [
        ""
      ],
      "execution_count": 0,
      "outputs": [
        {
          "output_type": "stream",
          "text": [
            "(32, 32, 3, 73257)\n",
            "(73257, 1)\n"
          ],
          "name": "stdout"
        }
      ]
    },
    {
      "cell_type": "code",
      "metadata": {
        "id": "4k75c3tbK1K8",
        "colab_type": "code",
        "colab": {}
      },
      "source": [
        "import os\n",
        "import torch\n",
        "import pandas as pd\n",
        "from skimage import io, transform\n",
        "import numpy as np\n",
        "import matplotlib.pyplot as plt\n",
        "from torch.utils.data import Dataset, DataLoader\n",
        "from torchvision import transforms, utils\n",
        "\n",
        "from scipy.io import loadmat\n",
        "from matplotlib.pyplot import imshow"
      ],
      "execution_count": 0,
      "outputs": []
    },
    {
      "cell_type": "code",
      "metadata": {
        "id": "_WOsEzDPygqX",
        "colab_type": "code",
        "colab": {}
      },
      "source": [
        "from torch.utils.data import Dataset\n",
        "class SVHN_dataset(Dataset):\n",
        "\n",
        "    def __init__(self, data):\n",
        "        # Transform data to Torch Tensors\n",
        "        self.images = torch.tensor(data['X']).permute([3,2,0,1])\n",
        "        self.labels = torch.tensor(data['y'])\n",
        "        self.size = self.labels.shape[0]\n",
        "\n",
        "        # replace label 10 with label 0\n",
        "        self.labels[np.where(self.labels == 10)] = 0\n",
        "\n",
        "        # convert to float and normalize images to 0..1 range\n",
        "        self.images = self.images.to(dtype=torch.float)\n",
        "        self.images = self.images / 255.0\n",
        "\n",
        "        self.labels = self.labels.to(dtype=torch.long)\n",
        "\n",
        "\n",
        "    \n",
        "    def __len__(self):\n",
        "        return self.size\n",
        "\n",
        "    def __getitem__(self, idx):\n",
        "        return self.images[idx], self.labels[idx]"
      ],
      "execution_count": 0,
      "outputs": []
    },
    {
      "cell_type": "code",
      "metadata": {
        "id": "pVTN1efYzPhr",
        "colab_type": "code",
        "colab": {}
      },
      "source": [
        "train_data = loadmat('train_32x32.mat')\n",
        "test_data = loadmat('test_32x32.mat')"
      ],
      "execution_count": 0,
      "outputs": []
    },
    {
      "cell_type": "code",
      "metadata": {
        "id": "e97xHxSxzcDV",
        "colab_type": "code",
        "colab": {}
      },
      "source": [
        "train_dataset = SVHN_dataset(train_data)\n",
        "test_dataset = SVHN_dataset(test_data)"
      ],
      "execution_count": 0,
      "outputs": []
    },
    {
      "cell_type": "markdown",
      "metadata": {
        "id": "PWt77OcX3FZb",
        "colab_type": "text"
      },
      "source": [
        "Values are supposed to be normalized"
      ]
    },
    {
      "cell_type": "code",
      "metadata": {
        "id": "Vq1vvK1Ezvg-",
        "colab_type": "code",
        "outputId": "c40a7f17-3130-4760-d575-d1d2469f659d",
        "colab": {
          "base_uri": "https://localhost:8080/",
          "height": 52
        }
      },
      "source": [
        "print(\"images range [\", train_dataset.images.min(),\",\", train_dataset.images.max(),\"]\",train_dataset.images.shape)\n",
        "print(\"labels\",train_dataset.labels.unique())"
      ],
      "execution_count": 6,
      "outputs": [
        {
          "output_type": "stream",
          "text": [
            "images range [ tensor(0.) , tensor(1.) ] torch.Size([73257, 3, 32, 32])\n",
            "labels tensor([0, 1, 2, 3, 4, 5, 6, 7, 8, 9])\n"
          ],
          "name": "stdout"
        }
      ]
    },
    {
      "cell_type": "markdown",
      "metadata": {
        "id": "ZttWiWwszP3u",
        "colab_type": "text"
      },
      "source": [
        "Creating the net\n",
        "1. convolution, kernel_size=5, channels=6, stride=1, padding=2\n",
        "2. batch-normalization\n",
        "3. ReLU\n",
        "4. Max-pool, kernel_size=2, stride=2\n",
        "\n",
        "5. convolution, kernel_size=3, channels=12, stride=1, padding=1\n",
        "6. batch-normalization\n",
        "7. ReLU\n",
        "8. Max-pool, kernel_size=2, stride=2\n",
        "\n",
        "9. convolution, kernel_size=3, channels=24, stride=1, padding=1\n",
        "10. batch-normalization\n",
        "11. ReLU\n",
        "12. Max-pool, kernel_size=2, stride=2\n",
        "\n",
        "13. fully connected layer, output_size=10"
      ]
    },
    {
      "cell_type": "code",
      "metadata": {
        "id": "-7cF7fFhH5H0",
        "colab_type": "code",
        "colab": {}
      },
      "source": [
        "import torch.nn as nn\n",
        "import torch.nn.functional as F\n"
      ],
      "execution_count": 0,
      "outputs": []
    },
    {
      "cell_type": "code",
      "metadata": {
        "id": "_6pedsjx4YXq",
        "colab_type": "code",
        "colab": {}
      },
      "source": [
        "\n",
        "\n",
        "class Net(nn.Module):\n",
        "    def __init__(self):\n",
        "        super(Net, self).__init__()\n",
        "        #block\n",
        "        self.conv_1 = nn.Conv2d(in_channels = 3, out_channels=6,kernel_size=5,stride=1,padding=2)\n",
        "        self.batch_norm_1 = nn.BatchNorm2d(6) # same as out_channels before layer \n",
        "        self.relu_1 = nn.ReLU()\n",
        "        self.pool_1 = nn.MaxPool2d(2, 2)\n",
        "\n",
        "\n",
        "        self.conv_2 = nn.Conv2d(in_channels = 6, out_channels=12,kernel_size=3,stride=1,padding=1)\n",
        "        self.batch_norm_2 = nn.BatchNorm2d(12) # same as out_channels before layer \n",
        "        self.relu_2 = nn.ReLU()\n",
        "        self.pool_2 = nn.MaxPool2d(2, 2)\n",
        "\n",
        "        self.conv_3 = nn.Conv2d(in_channels= 12, out_channels=24,kernel_size=3,stride=1,padding=1)\n",
        "        self.batch_norm_3 = nn.BatchNorm2d(24) # same as out_channels before layer \n",
        "        self.relu_3 = nn.ReLU()\n",
        "        self.pool_3 = nn.MaxPool2d(2, 2)\n",
        "\n",
        "        self.fc1 = nn.Linear(24 * 4 * 4, 10)# 24 chans x 32//(2*2*2)\n",
        "\n",
        "    def forward(self, x):\n",
        "        x = self.conv_1(x)\n",
        "        x = self.batch_norm_1(x)\n",
        "        x = self.relu_1(x)\n",
        "        x = self.pool_1(x)\n",
        "\n",
        "        x = self.conv_2(x)\n",
        "        x = self.batch_norm_2(x)\n",
        "        x = self.relu_2(x)\n",
        "        x = self.pool_2(x)\n",
        "\n",
        "        x = self.conv_3(x)\n",
        "        x = self.batch_norm_3(x)\n",
        "        x = self.relu_3(x)\n",
        "        x = self.pool_3(x)\n",
        "\n",
        "        x = x.view(-1, 24 * 4 * 4)\n",
        "        #x = F.relu(self.fc1(x))\n",
        "        #x = F.relu(self.fc2(x))\n",
        "        x = self.fc1(x)\n",
        "        return x\n",
        "\n",
        "\n",
        "net = Net()"
      ],
      "execution_count": 0,
      "outputs": []
    },
    {
      "cell_type": "code",
      "metadata": {
        "id": "p_HVjaRrTm1X",
        "colab_type": "code",
        "outputId": "109ccde8-33bf-44a1-f379-8d0a14439622",
        "colab": {
          "base_uri": "https://localhost:8080/",
          "height": 55
        }
      },
      "source": [
        "import torchvision\n",
        "\"\"\"\n",
        "trainset = torchvision.datasets.CIFAR10(root='./data', train=False,\n",
        "                                        download=True)\n",
        "trainloader = torch.utils.data.DataLoader(trainset, batch_size=4,\n",
        "                                          shuffle=True, num_workers=2)\n",
        "\"\"\"\n"
      ],
      "execution_count": 0,
      "outputs": [
        {
          "output_type": "execute_result",
          "data": {
            "text/plain": [
              "\"\\ntrainset = torchvision.datasets.CIFAR10(root='./data', train=False,\\n                                        download=True)\\ntrainloader = torch.utils.data.DataLoader(trainset, batch_size=4,\\n                                          shuffle=True, num_workers=2)\\n\""
            ]
          },
          "metadata": {
            "tags": []
          },
          "execution_count": 16
        }
      ]
    },
    {
      "cell_type": "markdown",
      "metadata": {
        "id": "_MCj_4OKUogh",
        "colab_type": "text"
      },
      "source": [
        "Define Loss"
      ]
    },
    {
      "cell_type": "code",
      "metadata": {
        "id": "ZK5TQM_VUwRE",
        "colab_type": "code",
        "outputId": "6a35f58f-aeea-4a69-9936-e4b8e66306f6",
        "colab": {
          "base_uri": "https://localhost:8080/",
          "height": 35
        }
      },
      "source": [
        "import torch.optim as optim\n",
        "\n",
        "criterion = nn.CrossEntropyLoss()\n",
        "optimizer = optim.Adam(net.parameters()) #optim.SGD(net.parameters(), lr=0.001, momentum=0.9)\n",
        "\n",
        "trainloader = torch.utils.data.DataLoader(train_dataset, batch_size=256,\n",
        "                                          shuffle=True, num_workers=2)\n",
        "\n",
        "testloader = torch.utils.data.DataLoader(test_dataset, batch_size=256,\n",
        "                                          shuffle=False, num_workers=2)\n",
        "\n",
        "\"\"\"\n",
        "trainloader.dataset.labels\n",
        "\"\"\"\n"
      ],
      "execution_count": 45,
      "outputs": [
        {
          "output_type": "execute_result",
          "data": {
            "text/plain": [
              "'\\ntrainloader.dataset.labels\\n'"
            ]
          },
          "metadata": {
            "tags": []
          },
          "execution_count": 45
        }
      ]
    },
    {
      "cell_type": "code",
      "metadata": {
        "id": "kPVTUpjBV2Rd",
        "colab_type": "code",
        "colab": {}
      },
      "source": [
        "def get_accuracy(model, dataloader):\n",
        "\n",
        "    model.eval()\n",
        "    # TODO: calculate accuracy\n",
        "    acc = 0\n",
        "    count = 0\n",
        "    for i, data in enumerate(dataloader, 0):\n",
        "      inputs, labels = data\n",
        "      labels = labels.squeeze()\n",
        "      inputs = inputs.cuda()\n",
        "      labels = labels.cuda()\n",
        "      \n",
        "      outputs = net(inputs)\n",
        "      predicted = torch.argmax(outputs, dim=1)\n",
        "      #print(predicted, labels)\n",
        "      acc = acc + (predicted == labels).sum()\n",
        "      count = count + labels.shape[0]\n",
        "    #print(\"AC\",acc,count)\n",
        "    acc = acc.to(torch.float)\n",
        "    \n",
        "    if count >0:\n",
        "      accuracy = acc/count\n",
        "    else:\n",
        "      accuracy = 0\n",
        "    #outputs = net(inputs)\n",
        "    model.train()\n",
        "    \n",
        "    return accuracy"
      ],
      "execution_count": 0,
      "outputs": []
    },
    {
      "cell_type": "code",
      "metadata": {
        "id": "ePTpjMDIUvuo",
        "colab_type": "code",
        "outputId": "55e2b7b9-3dc9-44e2-8528-c321d0e12286",
        "colab": {
          "base_uri": "https://localhost:8080/",
          "height": 52
        }
      },
      "source": [
        "print(\"device\",\"cuda\" if torch.cuda.is_available() else \"cpu\")\n",
        "net.cuda()\n",
        "for epoch in range(20):  # loop over the dataset multiple times\n",
        "\n",
        "    running_loss = 0.0\n",
        "    for i, data in enumerate(trainloader, 0):\n",
        "        # get the inputs; data is a list of [inputs, labels]\n",
        "        inputs, labels = data\n",
        "        labels = labels.squeeze()\n",
        "        inputs = inputs.cuda()\n",
        "        labels = labels.cuda()\n",
        "        \n",
        "        # zero the parameter gradients\n",
        "        optimizer.zero_grad()\n",
        "\n",
        "        # forward + backward + optimize\n",
        "        outputs = net(inputs)\n",
        "        outputs.cuda()\n",
        "        #print(labels,labels.shape)\n",
        "        loss = criterion(outputs, labels)\n",
        "        loss.backward()\n",
        "        optimizer.step()\n",
        "\n",
        "        # print statistics\n",
        "        running_loss += loss.item()\n",
        "        if i % 20 == 1999:    # print every 2000 mini-batches\n",
        "            print('[%d, %5d] loss: %.3f' %\n",
        "                  (epoch + 1, i + 1, running_loss / 2000))\n",
        "            acc = get_accuracy(net,testloader)\n",
        "            print(\"acc\" , acc)\n",
        "            running_loss = 0.0\n",
        "\n",
        "print('Finished Training')"
      ],
      "execution_count": 52,
      "outputs": [
        {
          "output_type": "stream",
          "text": [
            "device cuda\n",
            "Finished Training\n"
          ],
          "name": "stdout"
        }
      ]
    },
    {
      "cell_type": "code",
      "metadata": {
        "id": "-vKv1kIQzBBL",
        "colab_type": "code",
        "colab": {
          "base_uri": "https://localhost:8080/",
          "height": 35
        },
        "outputId": "0c7b40b0-5973-4d81-8b7c-228d5b60f00c"
      },
      "source": [
        "get_accuracy(net,testloader)"
      ],
      "execution_count": 53,
      "outputs": [
        {
          "output_type": "execute_result",
          "data": {
            "text/plain": [
              "tensor(0.8873, device='cuda:0')"
            ]
          },
          "metadata": {
            "tags": []
          },
          "execution_count": 53
        }
      ]
    },
    {
      "cell_type": "code",
      "metadata": {
        "id": "jq87Ihk6hPms",
        "colab_type": "code",
        "colab": {}
      },
      "source": [
        ""
      ],
      "execution_count": 0,
      "outputs": []
    }
  ]
}