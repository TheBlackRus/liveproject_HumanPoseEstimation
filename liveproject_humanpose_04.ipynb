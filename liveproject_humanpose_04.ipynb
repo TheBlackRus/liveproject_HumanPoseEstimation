{
  "nbformat": 4,
  "nbformat_minor": 0,
  "metadata": {
    "colab": {
      "name": "liveproject_humanpose_04.ipynb",
      "provenance": [],
      "collapsed_sections": [],
      "authorship_tag": "ABX9TyNMOBDiI6v9c75tZXPxuD6W",
      "include_colab_link": true
    },
    "kernelspec": {
      "name": "python3",
      "display_name": "Python 3"
    }
  },
  "cells": [
    {
      "cell_type": "markdown",
      "metadata": {
        "id": "view-in-github",
        "colab_type": "text"
      },
      "source": [
        "<a href=\"https://colab.research.google.com/github/TheBlackRus/liveproject_HumanPoseEstimation/blob/master/liveproject_humanpose_04.ipynb\" target=\"_parent\"><img src=\"https://colab.research.google.com/assets/colab-badge.svg\" alt=\"Open In Colab\"/></a>"
      ]
    },
    {
      "cell_type": "code",
      "metadata": {
        "id": "DYuShJPCJdFp",
        "colab_type": "code",
        "colab": {}
      },
      "source": [
        ""
      ],
      "execution_count": 0,
      "outputs": []
    },
    {
      "cell_type": "markdown",
      "metadata": {
        "id": "ZD9ja1d5LAma",
        "colab_type": "text"
      },
      "source": [
        "Download the COCO dataset."
      ]
    },
    {
      "cell_type": "code",
      "metadata": {
        "id": "rserV5MP9BFU",
        "colab_type": "code",
        "outputId": "15d7b306-1785-4eb4-d205-63b29bb84936",
        "colab": {
          "base_uri": "https://localhost:8080/",
          "height": 139
        }
      },
      "source": [
        "# This code downloads the coco dataset from Amazon S3 in parallel.\n",
        "import boto3\n",
        "from botocore import UNSIGNED\n",
        "from botocore.client import Config\n",
        "import multiprocessing\n",
        "import subprocess\n",
        "files = ['val2017.zip', 'annotations_trainval2017.zip']#, 'train2017.zip']\n",
        "\n",
        "s3 = boto3.client('s3', config=Config(signature_version=UNSIGNED))\n",
        "def download_and_unzip_from_s3(file_name, bucket_name='fast-ai-coco'):\n",
        "    print(\"Downloading\", file_name)\n",
        "    s3.download_file(bucket_name, file_name, file_name)\n",
        "    print(\"Finished downloading\", file_name, \". Starting to unzip.\")\n",
        "    subprocess.run([\"unzip\", file_name])\n",
        "    print(\"Finished unzipping\", file_name)\n",
        "\n",
        "# Download in parallel\n",
        "num_cpus = multiprocessing.cpu_count()\n",
        "with multiprocessing.Pool(num_cpus) as p:\n",
        "    p.map(download_and_unzip_from_s3, files)\n",
        "\n",
        "print(\"Done transferring all datasets\")"
      ],
      "execution_count": 2,
      "outputs": [
        {
          "output_type": "stream",
          "text": [
            "Downloading annotations_trainval2017.zip\n",
            "Downloading val2017.zip\n",
            "Finished downloading annotations_trainval2017.zip . Starting to unzip.\n",
            "Finished downloading val2017.zip . Starting to unzip.\n",
            "Finished unzipping annotations_trainval2017.zip\n",
            "Finished unzipping val2017.zip\n",
            "Done transferring all datasets\n"
          ],
          "name": "stdout"
        }
      ]
    },
    {
      "cell_type": "markdown",
      "metadata": {
        "id": "OC40iIoILFxt",
        "colab_type": "text"
      },
      "source": [
        "Generate the input images. "
      ]
    },
    {
      "cell_type": "code",
      "metadata": {
        "id": "YR0OCQZmc6aH",
        "colab_type": "code",
        "colab": {}
      },
      "source": [
        "# read the meta data of the validation set\n",
        "import json\n",
        "file_name = \"annotations//person_keypoints_val2017.json\"\n",
        "with open(file_name, 'r') as json_raw:\n",
        "    meta = json.load(json_raw)\n",
        "import os\n",
        "import torch\n",
        "import pandas as pd\n",
        "from skimage import io, transform\n",
        "import numpy as np\n",
        "import matplotlib.pyplot as plt\n",
        "from torch.utils.data import Dataset, DataLoader\n",
        "from torchvision import transforms, utils\n",
        "\n",
        "from scipy.io import loadmat\n",
        "from matplotlib.pyplot import imshow"
      ],
      "execution_count": 0,
      "outputs": []
    },
    {
      "cell_type": "code",
      "metadata": {
        "id": "FCV75IYxKd03",
        "colab_type": "code",
        "colab": {}
      },
      "source": [
        "import json\n",
        "from torch.utils.data import Dataset\n",
        "import numpy as np\n",
        "%matplotlib inline\n",
        "#from matplotlib.pyplot import imshow\n",
        "from matplotlib import image\n",
        "import matplotlib.pyplot as plt\n",
        "import matplotlib.patches as patches\n",
        "import cv2\n",
        "from scipy.ndimage import gaussian_filter\n",
        "\n",
        "class HumanPoseDataset(Dataset):\n",
        "    \"\"\"Face Landmarks dataset.\"\"\"\n",
        "\n",
        "    def __init__(self, meta_path, transform=None):\n",
        "        \n",
        "        self.meta = self.load_meta(meta_path)\n",
        "        \n",
        "        self.img_annotations = self.filter_annotations(self.meta[\"annotations\"])\n",
        "        #self.img_info = meta[\"images\"]\n",
        "        #self.img_catogory = meta[\"categories\"][0][\"keypoints\"]\n",
        "        self.mean = [0.485, 0.456, 0.406]\n",
        "        self.std = [0.229, 0.224, 0.225]\n",
        "\n",
        "    def load_meta(self,path):\n",
        "      \n",
        "      with open(path, 'r') as json_raw:\n",
        "          meta = json.load(json_raw)\n",
        "      return meta\n",
        "\n",
        "    def filter_annotations(self,meta):\n",
        "      width = 48 #192 # 12\n",
        "      height = 64 # 256 # 16\n",
        "      print(\"LEN before filter\",len(meta))\n",
        "      annot = filter(lambda x: x[\"iscrowd\"] == 0 and \n",
        "                     x['bbox'][2]>= width and x['bbox'][3]>=height and\n",
        "                     any(map(lambda y: y>0, x[\"keypoints\"][2:-1:3])),\n",
        "                     meta)\n",
        "      annot = list(annot)\n",
        "      print(\"AFTER\", len(annot))\n",
        "      return annot\n",
        "\n",
        "    def __len__(self):\n",
        "        return len(self.img_annotations)\n",
        "\n",
        "    def get_image_name(self,annot):\n",
        "      \n",
        "      img_file = str(annot[\"image_id\"])\n",
        "      img_file = img_file.zfill(12) +\".jpg\" #img_info[\"file_name\"]\n",
        "      return \"val2017//\"+img_file\n",
        "\n",
        "    def resize_image(self,img, target_width=192, target_height=256):\n",
        "      img_resized = cv2.resize(img,(target_width,target_height))\n",
        "      \n",
        "      return img_resized\n",
        "\n",
        "    def crop_image(self,img, upper_left_corner, size):\n",
        "      start_x, start_y = upper_left_corner\n",
        "      w,h = size\n",
        "      img_cropped = img[int(start_y):(int(start_y+h)),int(start_x):int(start_x+w),:]\n",
        "      return img_cropped\n",
        "\n",
        "    def adjust_keypoint(self,keypoint, start, scale):\n",
        "      keypoint_x, keypoint_y= keypoint\n",
        "      start_x,start_y = start\n",
        "      sx,sy = scale\n",
        "      x = (keypoint_x-start_x)*sx\n",
        "      y = (keypoint_y-start_y)*sy\n",
        "      return x,y\n",
        "\n",
        "    def __getitem__(self, idx):\n",
        "        if torch.is_tensor(idx):\n",
        "            idx = idx.tolist()\n",
        "\n",
        "        annot = self.img_annotations[idx]\n",
        "        keypoints = annot[\"keypoints\"]\n",
        "\n",
        "        img_name = self.get_image_name(annot)\n",
        "        image = io.imread(img_name)\n",
        "\n",
        "        target_width = 192\n",
        "        target_height = 256\n",
        "\n",
        "        start_x,start_y, w,h = annot[\"bbox\"]\n",
        "        img_crop = self.crop_image(image, (start_x,start_y),(w,h))\n",
        "        img_crop = self.resize_image(img_crop,target_width,target_height)\n",
        "        img = img_crop / 255.0\n",
        "        img = (img-self.mean)/self.std\n",
        "        # imgshape (256, 192, 3)\n",
        "        print(\"img\",img.shape)\n",
        "        img = img.permute([2,0,1]) # channel first\n",
        "\n",
        "        #img_batch = torch.Tensor([img, img])\n",
        "        #print(img_batch.shape)\n",
        "        #img_batch = img_batch.permute([0,3,2,1])\n",
        "\n",
        "        sx = target_width/w \n",
        "        sy = target_height/h\n",
        "\n",
        "        validity = annot[\"keypoints\"][2::3]\n",
        "\n",
        "        validity = np.array(validity)\n",
        "        validity = validity > 0\n",
        "        validity = validity.astype(np.int)\n",
        "        print(validity.shape)\n",
        "\n",
        "        heatmaps = np.zeros((17,64,48))\n",
        "\n",
        "        keypoints_adjusted = []\n",
        "        for i in range(len(keypoints)//3):\n",
        "          keypoint = (keypoints[i*3],keypoints[i*3+1])\n",
        "          visible = keypoints[i*3+2]\n",
        "          \n",
        "          if visible:\n",
        "            x,y = self.adjust_keypoint(keypoint,(start_x,start_y),(sx,sy))\n",
        "            heatmaps[i,int(y/4),int(x/4)] = 1\n",
        "            heatmaps[i,:,:] =  gaussian_filter(heatmaps[i,:,:], sigma=2)\n",
        "            print(heatmaps[i,:,:].min(),heatmaps[i,:,:].max())\n",
        "            heatmaps[i,:,:] -= heatmaps[i,:,:].min() \n",
        "            heatmaps[i,:,:] /= heatmaps[i,:,:].max()\n",
        "            print(\"N\",heatmaps[i,:,:].min(),heatmaps[i,:,:].max())\n",
        "            plt.matshow(heatmaps[i,:,:])\n",
        "            print(meta[\"categories\"][0][\"keypoints\"][i])\n",
        "          else:\n",
        "            x,y = (-1,-1)\n",
        "          keypoints_adjusted.append(x)\n",
        "          keypoints_adjusted.append(y)\n",
        "          \n",
        "        \"\"\"\n",
        "        landmarks = self.landmarks_frame.iloc[idx, 1:]\n",
        "        landmarks = np.array([landmarks])\n",
        "        landmarks = landmarks.astype('float').reshape(-1, 2)\n",
        "        sample = {'image': image, 'landmarks': landmarks}\n",
        "\n",
        "        if self.transform:\n",
        "            sample = self.transform(sample)\n",
        "        \"\"\"\n",
        "        return image, heatmaps, validity"
      ],
      "execution_count": 0,
      "outputs": []
    },
    {
      "cell_type": "code",
      "metadata": {
        "id": "hDRYnRjAmZKp",
        "colab_type": "code",
        "outputId": "77695394-b330-47d9-8d17-f7482f2274b3",
        "colab": {
          "base_uri": "https://localhost:8080/",
          "height": 52
        }
      },
      "source": [
        "data_val = HumanPoseDataset(meta_path=\"annotations//person_keypoints_val2017.json\")"
      ],
      "execution_count": 52,
      "outputs": [
        {
          "output_type": "stream",
          "text": [
            "LEN before filter 11004\n",
            "AFTER 4795\n"
          ],
          "name": "stdout"
        }
      ]
    },
    {
      "cell_type": "code",
      "metadata": {
        "id": "eEMEXxTqxrOD",
        "colab_type": "code",
        "outputId": "1f810c43-3bd0-49c4-e5bb-50c528d8de3d",
        "colab": {
          "base_uri": "https://localhost:8080/",
          "height": 1000
        }
      },
      "source": [
        "data_val[0]"
      ],
      "execution_count": 53,
      "outputs": [
        {
          "output_type": "stream",
          "text": [
            "img (256, 192, 3)\n",
            "(17,)\n",
            "0.0 0.039790135140764016\n",
            "N 0.0 1.0\n",
            "left_shoulder\n",
            "0.0 0.039790135140764016\n",
            "N 0.0 1.0\n",
            "right_shoulder\n",
            "0.0 0.039790135140764016\n",
            "N 0.0 1.0\n",
            "left_elbow\n",
            "0.0 0.039790135140764016\n",
            "N 0.0 1.0\n",
            "right_elbow\n",
            "0.0 0.039790135140764016\n",
            "N 0.0 1.0\n",
            "left_wrist\n",
            "0.0 0.039790135140764016\n",
            "N 0.0 1.0\n",
            "right_wrist\n",
            "0.0 0.04153839166731017\n",
            "N 0.0 1.0\n",
            "left_hip\n",
            "0.0 0.039790135140764016\n",
            "N 0.0 1.0\n",
            "right_hip\n",
            "0.0 0.039790135140764016\n",
            "N 0.0 1.0\n",
            "right_knee\n",
            "0.0 0.039790135140764016\n",
            "N 0.0 1.0\n",
            "right_ankle\n"
          ],
          "name": "stdout"
        },
        {
          "output_type": "execute_result",
          "data": {
            "text/plain": [
              "(array([[[ 97,  69,  30],\n",
              "         [ 99,  65,  19],\n",
              "         [ 98,  67,  20],\n",
              "         ...,\n",
              "         [108,  90,  76],\n",
              "         [ 82,  64,  64],\n",
              "         [ 64,  52,  36]],\n",
              " \n",
              "        [[ 99,  67,  20],\n",
              "         [100,  60,  24],\n",
              "         [102,  68,  33],\n",
              "         ...,\n",
              "         [111,  93,  79],\n",
              "         [ 82,  65,  58],\n",
              "         [ 59,  48,  44]],\n",
              " \n",
              "        [[ 96,  67,  25],\n",
              "         [100,  66,  28],\n",
              "         [103,  71,  32],\n",
              "         ...,\n",
              "         [102,  87,  66],\n",
              "         [ 83,  70,  54],\n",
              "         [ 68,  54,  54]],\n",
              " \n",
              "        ...,\n",
              " \n",
              "        [[ 74,  41,  26],\n",
              "         [ 73,  38,  16],\n",
              "         [ 71,  40,  12],\n",
              "         ...,\n",
              "         [ 77,  56,  29],\n",
              "         [ 80,  57,  43],\n",
              "         [ 79,  52,  22]],\n",
              " \n",
              "        [[ 67,  38,  32],\n",
              "         [ 69,  40,  26],\n",
              "         [ 66,  37,  19],\n",
              "         ...,\n",
              "         [ 83,  56,  26],\n",
              "         [ 86,  61,  31],\n",
              "         [ 88,  59,  25]],\n",
              " \n",
              "        [[ 70,  36,  26],\n",
              "         [ 79,  46,  31],\n",
              "         [ 71,  43,  22],\n",
              "         ...,\n",
              "         [ 91,  59,  34],\n",
              "         [ 85,  56,  24],\n",
              "         [ 85,  52,  37]]], dtype=uint8),\n",
              " array([0, 0, 0, 0, 0, 1, 1, 1, 1, 1, 1, 1, 1, 0, 1, 0, 1]))"
            ]
          },
          "metadata": {
            "tags": []
          },
          "execution_count": 53
        },
        {
          "output_type": "display_data",
          "data": {
            "image/png": "[encoded data removed]",
            "text/plain": [
              "<Figure size 288x384 with 1 Axes>"
            ]
          },
          "metadata": {
            "tags": [],
            "needs_background": "light"
          }
        },
        {
          "output_type": "display_data",
          "data": {
            "image/png": "[encoded data removed]",
            "text/plain": [
              "<Figure size 288x384 with 1 Axes>"
            ]
          },
          "metadata": {
            "tags": [],
            "needs_background": "light"
          }
        },
        {
          "output_type": "display_data",
          "data": {
            "image/png": "[encoded data removed]",
            "text/plain": [
              "<Figure size 288x384 with 1 Axes>"
            ]
          },
          "metadata": {
            "tags": [],
            "needs_background": "light"
          }
        },
        {
          "output_type": "display_data",
          "data": {
            "image/png": "[encoded data removed]",
            "text/plain": [
              "<Figure size 288x384 with 1 Axes>"
            ]
          },
          "metadata": {
            "tags": [],
            "needs_background": "light"
          }
        },
        {
          "output_type": "display_data",
          "data": {
            "image/png": "[encoded data removed]",
            "text/plain": [
              "<Figure size 288x384 with 1 Axes>"
            ]
          },
          "metadata": {
            "tags": [],
            "needs_background": "light"
          }
        },
        {
          "output_type": "display_data",
          "data": {
            "image/png": "[encoded data removed]",
            "text/plain": [
              "<Figure size 288x384 with 1 Axes>"
            ]
          },
          "metadata": {
            "tags": [],
            "needs_background": "light"
          }
        },
        {
          "output_type": "display_data",
          "data": {
            "image/png": "[encoded data removed]",
            "text/plain": [
              "<Figure size 288x384 with 1 Axes>"
            ]
          },
          "metadata": {
            "tags": [],
            "needs_background": "light"
          }
        },
        {
          "output_type": "display_data",
          "data": {
            "image/png": "[encoded data removed]",
            "text/plain": [
              "<Figure size 288x384 with 1 Axes>"
            ]
          },
          "metadata": {
            "tags": [],
            "needs_background": "light"
          }
        },
        {
          "output_type": "display_data",
          "data": {
            "image/png": "[encoded data removed]",
            "text/plain": [
              "<Figure size 288x384 with 1 Axes>"
            ]
          },
          "metadata": {
            "tags": [],
            "needs_background": "light"
          }
        },
        {
          "output_type": "display_data",
          "data": {
            "image/png": "[encoded data removed]",
            "text/plain": [
              "<Figure size 288x384 with 1 Axes>"
            ]
          },
          "metadata": {
            "tags": [],
            "needs_background": "light"
          }
        }
      ]
    },
    {
      "cell_type": "code",
      "metadata": {
        "id": "bvH0QY2pPI5C",
        "colab_type": "code",
        "outputId": "bd638f11-5e2b-4672-8623-1524b460d04c",
        "colab": {
          "base_uri": "https://localhost:8080/",
          "height": 55
        }
      },
      "source": [
        "meta.keys()\n",
        "print(meta[\"categories\"])"
      ],
      "execution_count": 0,
      "outputs": [
        {
          "output_type": "stream",
          "text": [
            "[{'supercategory': 'person', 'id': 1, 'name': 'person', 'keypoints': ['nose', 'left_eye', 'right_eye', 'left_ear', 'right_ear', 'left_shoulder', 'right_shoulder', 'left_elbow', 'right_elbow', 'left_wrist', 'right_wrist', 'left_hip', 'right_hip', 'left_knee', 'right_knee', 'left_ankle', 'right_ankle'], 'skeleton': [[16, 14], [14, 12], [17, 15], [15, 13], [12, 13], [6, 12], [7, 13], [6, 7], [6, 8], [7, 9], [8, 10], [9, 11], [2, 3], [1, 2], [1, 3], [2, 4], [3, 5], [4, 6], [5, 7]]}]\n"
          ],
          "name": "stdout"
        }
      ]
    },
    {
      "cell_type": "code",
      "metadata": {
        "id": "R7-DGF4yPKWN",
        "colab_type": "code",
        "colab": {}
      },
      "source": [
        "example = 0\n",
        "img_info = meta[\"images\"][example]\n",
        "img_annotation = meta[\"annotations\"][example]\n",
        "img_catogory = meta[\"categories\"][0][\"keypoints\"]"
      ],
      "execution_count": 0,
      "outputs": []
    },
    {
      "cell_type": "code",
      "metadata": {
        "id": "6OfbgYgjfQSD",
        "colab_type": "code",
        "colab": {}
      },
      "source": [
        "x = list(haha)"
      ],
      "execution_count": 0,
      "outputs": []
    },
    {
      "cell_type": "code",
      "metadata": {
        "id": "IqwHYpTFfai8",
        "colab_type": "code",
        "outputId": "64682262-cea3-4d54-d4ca-193a3b07ec08",
        "colab": {
          "base_uri": "https://localhost:8080/",
          "height": 35
        }
      },
      "source": [
        "x[1][\"keypoints\"][2:-1:3]"
      ],
      "execution_count": 0,
      "outputs": [
        {
          "output_type": "execute_result",
          "data": {
            "text/plain": [
              "[2, 2, 2, 2, 1, 2, 2, 2, 2, 2, 2, 2, 2, 0, 0, 0]"
            ]
          },
          "metadata": {
            "tags": []
          },
          "execution_count": 71
        }
      ]
    },
    {
      "cell_type": "code",
      "metadata": {
        "id": "0Z328qFkfbpD",
        "colab_type": "code",
        "colab": {}
      },
      "source": [
        "import torch.nn as nn\n",
        "import torch.nn.functional as F"
      ],
      "execution_count": 0,
      "outputs": []
    },
    {
      "cell_type": "code",
      "metadata": {
        "id": "DiP5YVWhd7Ag",
        "colab_type": "code",
        "colab": {
          "base_uri": "https://localhost:8080/",
          "height": 277
        },
        "outputId": "ab984d54-2630-4162-9fed-fc100d2f41bf"
      },
      "source": [
        "class Net(nn.Module):\n",
        "    def __init__(self):\n",
        "        super(Net, self).__init__()\n",
        "        #block\n",
        "        self.conv_1 = nn.Conv2d(in_channels = 3, out_channels=64,kernel_size=7,stride=2,padding=3)\n",
        "        #nn.init.normal_(self.conv_1.weight, std=0.001)\n",
        "        #nn.init.constant_(self.conv_1.bias,0)\n",
        "        self.batch_norm_1 = nn.BatchNorm2d(64) # same as out_channels before layer \n",
        "        self.relu_1 = nn.ReLU()\n",
        "        self.pool_1 = nn.MaxPool2d(2, 2)\n",
        "\n",
        "\n",
        "        self.conv_2 = nn.Conv2d(in_channels = 64, out_channels=128,kernel_size=5,stride=1,padding=2)\n",
        "        #nn.init.normal_(self.conv_2.weight, std=0.001)\n",
        "        #nn.init.constant_(self.conv_2.bias,0)\n",
        "        self.batch_norm_2 = nn.BatchNorm2d(128) # same as out_channels before layer \n",
        "        self.relu_2 = nn.ReLU()\n",
        "        self.pool_2 = nn.MaxPool2d(2, 2)\n",
        "\n",
        "        self.conv_3 = nn.Conv2d(in_channels= 128, out_channels=256,kernel_size=5,stride=1,padding=2)\n",
        "        #nn.init.normal_(self.conv_3.weight, std=0.001)\n",
        "        #nn.init.constant_(self.conv_3.bias,0)\n",
        "        self.batch_norm_3 = nn.BatchNorm2d(256) # same as out_channels before layer \n",
        "        self.relu_3 = nn.ReLU()\n",
        "        self.pool_3 = nn.MaxPool2d(2, 2)\n",
        "\n",
        "        self.fc1 = nn.Conv2d(in_channels= 256, out_channels=17,kernel_size=1,stride=1,padding=0) #nn.Linear(24 * 4 * 4, 10)# 24 chans x 32//(2*2*2)\n",
        "        #nn.init.normal_(self.fc1.weight, std=0.001)\n",
        "        #nn.init.constant_(self.fc1.bias,0)\n",
        "\n",
        "    def forward(self, x):\n",
        "        x = self.conv_1(x)\n",
        "        x = self.batch_norm_1(x)\n",
        "        x = self.relu_1(x)\n",
        "        x = self.pool_1(x)\n",
        "\n",
        "        x = self.conv_2(x)\n",
        "        x = self.batch_norm_2(x)\n",
        "        x = self.relu_2(x)\n",
        "        x = self.pool_2(x)\n",
        "\n",
        "        x = self.conv_3(x)\n",
        "        x = self.batch_norm_3(x)\n",
        "        x = self.relu_3(x)\n",
        "        x = self.pool_3(x)\n",
        "\n",
        "        x = self.fc1(x)#x.view(-1, 24 * 4 * 4)\n",
        "        #x = F.relu(self.fc1(x))\n",
        "        #x = F.relu(self.fc2(x))\n",
        "        #x = self.fc1(x)\n",
        "        return x\n",
        "\n",
        "\n",
        "\n",
        "net = Net()\n",
        "print(net)"
      ],
      "execution_count": 89,
      "outputs": [
        {
          "output_type": "stream",
          "text": [
            "Net(\n",
            "  (conv_1): Conv2d(3, 64, kernel_size=(7, 7), stride=(2, 2), padding=(3, 3))\n",
            "  (batch_norm_1): BatchNorm2d(64, eps=1e-05, momentum=0.1, affine=True, track_running_stats=True)\n",
            "  (relu_1): ReLU()\n",
            "  (pool_1): MaxPool2d(kernel_size=2, stride=2, padding=0, dilation=1, ceil_mode=False)\n",
            "  (conv_2): Conv2d(64, 128, kernel_size=(5, 5), stride=(1, 1), padding=(2, 2))\n",
            "  (batch_norm_2): BatchNorm2d(128, eps=1e-05, momentum=0.1, affine=True, track_running_stats=True)\n",
            "  (relu_2): ReLU()\n",
            "  (pool_2): MaxPool2d(kernel_size=2, stride=2, padding=0, dilation=1, ceil_mode=False)\n",
            "  (conv_3): Conv2d(128, 256, kernel_size=(5, 5), stride=(1, 1), padding=(2, 2))\n",
            "  (batch_norm_3): BatchNorm2d(256, eps=1e-05, momentum=0.1, affine=True, track_running_stats=True)\n",
            "  (relu_3): ReLU()\n",
            "  (pool_3): MaxPool2d(kernel_size=2, stride=2, padding=0, dilation=1, ceil_mode=False)\n",
            "  (fc1): Conv2d(256, 17, kernel_size=(1, 1), stride=(1, 1))\n",
            ")\n"
          ],
          "name": "stdout"
        }
      ]
    },
    {
      "cell_type": "code",
      "metadata": {
        "id": "o_PsGUbpggVx",
        "colab_type": "code",
        "colab": {
          "base_uri": "https://localhost:8080/",
          "height": 468
        },
        "outputId": "9450c8a0-5cfb-4064-832a-f653f45d654a"
      },
      "source": [
        "from torchsummary import summary\n",
        "summary(net, (3, 256, 192))"
      ],
      "execution_count": 90,
      "outputs": [
        {
          "output_type": "stream",
          "text": [
            "----------------------------------------------------------------\n",
            "        Layer (type)               Output Shape         Param #\n",
            "================================================================\n",
            "            Conv2d-1          [-1, 64, 128, 96]           9,472\n",
            "       BatchNorm2d-2          [-1, 64, 128, 96]             128\n",
            "              ReLU-3          [-1, 64, 128, 96]               0\n",
            "         MaxPool2d-4           [-1, 64, 64, 48]               0\n",
            "            Conv2d-5          [-1, 128, 64, 48]         204,928\n",
            "       BatchNorm2d-6          [-1, 128, 64, 48]             256\n",
            "              ReLU-7          [-1, 128, 64, 48]               0\n",
            "         MaxPool2d-8          [-1, 128, 32, 24]               0\n",
            "            Conv2d-9          [-1, 256, 32, 24]         819,456\n",
            "      BatchNorm2d-10          [-1, 256, 32, 24]             512\n",
            "             ReLU-11          [-1, 256, 32, 24]               0\n",
            "        MaxPool2d-12          [-1, 256, 16, 12]               0\n",
            "           Conv2d-13           [-1, 17, 16, 12]           4,369\n",
            "================================================================\n",
            "Total params: 1,039,121\n",
            "Trainable params: 1,039,121\n",
            "Non-trainable params: 0\n",
            "----------------------------------------------------------------\n",
            "Input size (MB): 0.56\n",
            "Forward/backward pass size (MB): 34.15\n",
            "Params size (MB): 3.96\n",
            "Estimated Total Size (MB): 38.68\n",
            "----------------------------------------------------------------\n"
          ],
          "name": "stdout"
        }
      ]
    },
    {
      "cell_type": "code",
      "metadata": {
        "id": "NrmuzFt9gsJL",
        "colab_type": "code",
        "colab": {}
      },
      "source": [
        ""
      ],
      "execution_count": 0,
      "outputs": []
    }
  ]
}