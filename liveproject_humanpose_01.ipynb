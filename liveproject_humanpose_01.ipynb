{
  "nbformat": 4,
  "nbformat_minor": 0,
  "metadata": {
    "colab": {
      "name": "liveproject_humanpose_01.ipynb",
      "provenance": [],
      "collapsed_sections": [],
      "authorship_tag": "ABX9TyNyCataAv4VLWmTiOQFmT7Z",
      "include_colab_link": true
    },
    "kernelspec": {
      "name": "python3",
      "display_name": "Python 3"
    }
  },
  "cells": [
    {
      "cell_type": "markdown",
      "metadata": {
        "id": "view-in-github",
        "colab_type": "text"
      },
      "source": [
        "<a href=\"https://colab.research.google.com/github/TheBlackRus/liveproject_HumanPoseEstimation/blob/master/liveproject_humanpose_01.ipynb\" target=\"_parent\"><img src=\"https://colab.research.google.com/assets/colab-badge.svg\" alt=\"Open In Colab\"/></a>"
      ]
    },
    {
      "cell_type": "code",
      "metadata": {
        "id": "TypqLhM43FUc",
        "colab_type": "code",
        "colab": {}
      },
      "source": [
        "# 01 Download the data"
      ],
      "execution_count": 0,
      "outputs": []
    },
    {
      "cell_type": "code",
      "metadata": {
        "id": "oqaM3_GE3XDc",
        "colab_type": "code",
        "outputId": "f4ee69ca-05ba-4e55-aae2-a1d3cae60f53",
        "colab": {
          "base_uri": "https://localhost:8080/",
          "height": 399
        }
      },
      "source": [
        "!wget http://ufldl.stanford.edu/housenumbers/train_32x32.mat\n",
        "!wget http://ufldl.stanford.edu/housenumbers/test_32x32.mat\n",
        "\n"
      ],
      "execution_count": 0,
      "outputs": [
        {
          "output_type": "stream",
          "text": [
            "--2020-04-26 14:38:30--  http://ufldl.stanford.edu/housenumbers/train_32x32.mat\n",
            "Resolving ufldl.stanford.edu (ufldl.stanford.edu)... 171.64.68.10\n",
            "Connecting to ufldl.stanford.edu (ufldl.stanford.edu)|171.64.68.10|:80... connected.\n",
            "HTTP request sent, awaiting response... 200 OK\n",
            "Length: 182040794 (174M) [text/plain]\n",
            "Saving to: ‘train_32x32.mat.1’\n",
            "\n",
            "train_32x32.mat.1   100%[===================>] 173.61M  39.5MB/s    in 5.6s    \n",
            "\n",
            "2020-04-26 14:38:36 (30.9 MB/s) - ‘train_32x32.mat.1’ saved [182040794/182040794]\n",
            "\n",
            "--2020-04-26 14:38:37--  http://ufldl.stanford.edu/housenumbers/test_32x32.mat\n",
            "Resolving ufldl.stanford.edu (ufldl.stanford.edu)... 171.64.68.10\n",
            "Connecting to ufldl.stanford.edu (ufldl.stanford.edu)|171.64.68.10|:80... connected.\n",
            "HTTP request sent, awaiting response... 200 OK\n",
            "Length: 64275384 (61M) [text/plain]\n",
            "Saving to: ‘test_32x32.mat.1’\n",
            "\n",
            "test_32x32.mat.1    100%[===================>]  61.30M  21.4MB/s    in 2.9s    \n",
            "\n",
            "2020-04-26 14:38:40 (21.4 MB/s) - ‘test_32x32.mat.1’ saved [64275384/64275384]\n",
            "\n"
          ],
          "name": "stdout"
        }
      ]
    },
    {
      "cell_type": "code",
      "metadata": {
        "id": "85ZlKbwL3YwB",
        "colab_type": "code",
        "colab": {}
      },
      "source": [
        "# 02 display the data"
      ],
      "execution_count": 0,
      "outputs": []
    },
    {
      "cell_type": "code",
      "metadata": {
        "id": "VPEXQgDm3vXw",
        "colab_type": "code",
        "colab": {}
      },
      "source": [
        "from scipy.io import loadmat\n",
        "train = loadmat('train_32x32.mat')\n",
        "test = loadmat('test_32x32.mat')"
      ],
      "execution_count": 0,
      "outputs": []
    },
    {
      "cell_type": "code",
      "metadata": {
        "id": "rKi6i0H233Ig",
        "colab_type": "code",
        "outputId": "efc02c6b-8086-4402-da27-1f9af321612d",
        "colab": {
          "base_uri": "https://localhost:8080/",
          "height": 301
        }
      },
      "source": [
        "from matplotlib.pyplot import imshow\n",
        "\n",
        "X = train[\"X\"]\n",
        "y = train[\"y\"]\n",
        "example = 0\n",
        "assert(example < y.shape[0])\n",
        "\n",
        "print(\"Digital Label\", y[example][0])\n",
        "imshow(X[:,:,:,example])"
      ],
      "execution_count": 0,
      "outputs": [
        {
          "output_type": "stream",
          "text": [
            "Digital Label [1]\n"
          ],
          "name": "stdout"
        },
        {
          "output_type": "execute_result",
          "data": {
            "text/plain": [
              "<matplotlib.image.AxesImage at 0x7f7f44b34048>"
            ]
          },
          "metadata": {
            "tags": []
          },
          "execution_count": 16
        },
        {
          "output_type": "display_data",
          "data": {
            "image/png": "[encoded data removed]",
            "text/plain": [
              "<Figure size 432x288 with 1 Axes>"
            ]
          },
          "metadata": {
            "tags": [],
            "needs_background": "light"
          }
        }
      ]
    },
    {
      "cell_type": "code",
      "metadata": {
        "id": "gqtjsKKI40JC",
        "colab_type": "code",
        "colab": {}
      },
      "source": [
        "# 03 COCO"
      ],
      "execution_count": 0,
      "outputs": []
    },
    {
      "cell_type": "code",
      "metadata": {
        "id": "rserV5MP9BFU",
        "colab_type": "code",
        "outputId": "3add1e99-1f73-4805-fd1b-49c27ed92163",
        "colab": {
          "base_uri": "https://localhost:8080/",
          "height": 191
        }
      },
      "source": [
        "# This code downloads the coco dataset from Amazon S3 in parallel.\n",
        "import boto3\n",
        "from botocore import UNSIGNED\n",
        "from botocore.client import Config\n",
        "import multiprocessing\n",
        "import subprocess\n",
        "files = ['val2017.zip', 'annotations_trainval2017.zip', 'train2017.zip']\n",
        "\n",
        "s3 = boto3.client('s3', config=Config(signature_version=UNSIGNED))\n",
        "def download_and_unzip_from_s3(file_name, bucket_name='fast-ai-coco'):\n",
        "    print(\"Downloading\", file_name)\n",
        "    s3.download_file(bucket_name, file_name, file_name)\n",
        "    print(\"Finished downloading\", file_name, \". Starting to unzip.\")\n",
        "    subprocess.run([\"unzip\", file_name])\n",
        "    print(\"Finished unzipping\", file_name)\n",
        "\n",
        "# Download in parallel\n",
        "num_cpus = multiprocessing.cpu_count()\n",
        "with multiprocessing.Pool(num_cpus) as p:\n",
        "    p.map(download_and_unzip_from_s3, files)\n",
        "\n",
        "print(\"Done transferring all datasets\")"
      ],
      "execution_count": 0,
      "outputs": [
        {
          "output_type": "stream",
          "text": [
            "Downloading val2017.zip\n",
            "Downloading annotations_trainval2017.zip\n",
            "Finished downloading annotations_trainval2017.zip . Starting to unzip.\n",
            "Finished downloading val2017.zip . Starting to unzip.\n",
            "Finished unzipping annotations_trainval2017.zip\n",
            "Downloading train2017.zip\n",
            "Finished unzipping val2017.zip\n",
            "Finished downloading train2017.zip . Starting to unzip.\n",
            "Finished unzipping train2017.zip\n",
            "Done transferring all datasets\n"
          ],
          "name": "stdout"
        }
      ]
    },
    {
      "cell_type": "code",
      "metadata": {
        "id": "liHesEIV9BoI",
        "colab_type": "code",
        "colab": {}
      },
      "source": [
        "import json\n",
        "file_name = \"annotations//person_keypoints_val2017.json\"\n",
        "with open(file_name, 'r') as json_raw:\n",
        "    meta = json.load(json_raw)\n",
        "\n"
      ],
      "execution_count": 0,
      "outputs": []
    },
    {
      "cell_type": "code",
      "metadata": {
        "id": "J3fqul9SI19f",
        "colab_type": "code",
        "colab": {
          "base_uri": "https://localhost:8080/",
          "height": 35
        },
        "outputId": "bd0f5d16-d7ec-4cf9-c175-c06173ec302a"
      },
      "source": [
        "meta.keys()\n"
      ],
      "execution_count": 8,
      "outputs": [
        {
          "output_type": "execute_result",
          "data": {
            "text/plain": [
              "dict_keys(['info', 'licenses', 'images', 'annotations', 'categories'])"
            ]
          },
          "metadata": {
            "tags": []
          },
          "execution_count": 8
        }
      ]
    },
    {
      "cell_type": "code",
      "metadata": {
        "id": "j-iCjgGgJP7H",
        "colab_type": "code",
        "colab": {}
      },
      "source": [
        "example = 0\n",
        "img_info = meta[\"images\"][example]\n",
        "img_annot = meta[\"annotations\"][example]"
      ],
      "execution_count": 0,
      "outputs": []
    },
    {
      "cell_type": "code",
      "metadata": {
        "id": "FVc4dFkUJjAt",
        "colab_type": "code",
        "colab": {
          "base_uri": "https://localhost:8080/",
          "height": 72
        },
        "outputId": "60fb6252-a8bd-47f4-dc93-5954ef0b297e"
      },
      "source": [
        "print(img_info.keys())\n",
        "print(img_annot.keys())"
      ],
      "execution_count": 31,
      "outputs": [
        {
          "output_type": "stream",
          "text": [
            "dict_keys(['license', 'file_name', 'coco_url', 'height', 'width', 'date_captured', 'flickr_url', 'id'])\n",
            "dict_keys(['segmentation', 'num_keypoints', 'area', 'iscrowd', 'keypoints', 'image_id', 'bbox', 'category_id', 'id'])\n"
          ],
          "name": "stdout"
        }
      ]
    },
    {
      "cell_type": "code",
      "metadata": {
        "id": "rBdhTQB8KONE",
        "colab_type": "code",
        "colab": {
          "base_uri": "https://localhost:8080/",
          "height": 35
        },
        "outputId": "077ef20f-e9df-4188-c13a-5ac69549b910"
      },
      "source": [
        "img_file = str(img_annot[\"image_id\"])\n",
        "img_file = img_file.zfill(12) +\".jpg\" #img_info[\"file_name\"]\n",
        "print(img_file, img_annot[\"image_id\"])"
      ],
      "execution_count": 63,
      "outputs": [
        {
          "output_type": "stream",
          "text": [
            "000000425226.jpg 425226\n"
          ],
          "name": "stdout"
        }
      ]
    },
    {
      "cell_type": "code",
      "metadata": {
        "id": "NijRNzIAKToO",
        "colab_type": "code",
        "colab": {
          "base_uri": "https://localhost:8080/",
          "height": 269
        },
        "outputId": "0ab45396-3f07-477e-c019-edef175fadf9"
      },
      "source": [
        "%matplotlib inline\n",
        "#from matplotlib.pyplot import imshow\n",
        "from matplotlib import image\n",
        "import matplotlib.pyplot as plt\n",
        "import matplotlib.patches as patches\n",
        "img = image.imread(\"val2017//\"+img_file)\n",
        "fig,ax = plt.subplots(1)\n",
        "ax.imshow(img)\n",
        "\n",
        "start_x,start_y, w,h = img_annot[\"bbox\"]\n",
        "\n",
        "r = patches.Rectangle((start_x,start_y),w,h,linewidth=3,edgecolor='r',facecolor='None')\n",
        "ax.add_patch(r)\n",
        "\n",
        "\n",
        "keypoints = img_annot[\"keypoints\"]\n",
        "for i in range(len(keypoints)//3):\n",
        "  x = keypoints[i*3]\n",
        "  y = keypoints[i*3+1]\n",
        "  v = keypoints[i*3+2]\n",
        "  if v:\n",
        "    ax.text(x, y, \"x\")\n",
        "\n",
        "plt.show()"
      ],
      "execution_count": 69,
      "outputs": [
        {
          "output_type": "display_data",
          "data": {
            "image/png": "[encoded data removed]",
            "text/plain": [
              "<Figure size 432x288 with 1 Axes>"
            ]
          },
          "metadata": {
            "tags": [],
            "needs_background": "light"
          }
        }
      ]
    },
    {
      "cell_type": "code",
      "metadata": {
        "id": "WGDiUQ_NKf83",
        "colab_type": "code",
        "colab": {
          "base_uri": "https://localhost:8080/",
          "height": 35
        },
        "outputId": "abe2abf4-032e-4b7e-f71a-b78a9e78233c"
      },
      "source": [
        "img_annot[\"bbox\"]"
      ],
      "execution_count": 32,
      "outputs": [
        {
          "output_type": "execute_result",
          "data": {
            "text/plain": [
              "[73.35, 206.02, 300.58, 372.5]"
            ]
          },
          "metadata": {
            "tags": []
          },
          "execution_count": 32
        }
      ]
    },
    {
      "cell_type": "code",
      "metadata": {
        "id": "iZnswnBzPKSW",
        "colab_type": "code",
        "colab": {}
      },
      "source": [
        ""
      ],
      "execution_count": 0,
      "outputs": []
    },
    {
      "cell_type": "code",
      "metadata": {
        "id": "it2NUj3NP2l8",
        "colab_type": "code",
        "colab": {
          "base_uri": "https://localhost:8080/",
          "height": 156
        },
        "outputId": "61508044-87fe-4929-805e-5fcc4e8f9d28"
      },
      "source": [
        "img_info"
      ],
      "execution_count": 48,
      "outputs": [
        {
          "output_type": "execute_result",
          "data": {
            "text/plain": [
              "{'coco_url': 'http://images.cocodataset.org/val2017/000000397133.jpg',\n",
              " 'date_captured': '2013-11-14 17:02:52',\n",
              " 'file_name': '000000397133.jpg',\n",
              " 'flickr_url': 'http://farm7.staticflickr.com/6116/6255196340_da26cf2c9e_z.jpg',\n",
              " 'height': 427,\n",
              " 'id': 397133,\n",
              " 'license': 4,\n",
              " 'width': 640}"
            ]
          },
          "metadata": {
            "tags": []
          },
          "execution_count": 48
        }
      ]
    },
    {
      "cell_type": "code",
      "metadata": {
        "id": "7AwlDyzxSX8e",
        "colab_type": "code",
        "colab": {
          "base_uri": "https://localhost:8080/",
          "height": 1000
        },
        "outputId": "f34d9005-ffa2-4184-d600-911d8f1dba43"
      },
      "source": [
        "img_annot"
      ],
      "execution_count": 49,
      "outputs": [
        {
          "output_type": "execute_result",
          "data": {
            "text/plain": [
              "{'area': 47803.27955,\n",
              " 'bbox': [73.35, 206.02, 300.58, 372.5],\n",
              " 'category_id': 1,\n",
              " 'id': 183126,\n",
              " 'image_id': 425226,\n",
              " 'iscrowd': 0,\n",
              " 'keypoints': [0,\n",
              "  0,\n",
              "  0,\n",
              "  0,\n",
              "  0,\n",
              "  0,\n",
              "  0,\n",
              "  0,\n",
              "  0,\n",
              "  0,\n",
              "  0,\n",
              "  0,\n",
              "  0,\n",
              "  0,\n",
              "  0,\n",
              "  142,\n",
              "  309,\n",
              "  1,\n",
              "  177,\n",
              "  320,\n",
              "  2,\n",
              "  191,\n",
              "  398,\n",
              "  2,\n",
              "  237,\n",
              "  317,\n",
              "  2,\n",
              "  233,\n",
              "  426,\n",
              "  2,\n",
              "  306,\n",
              "  233,\n",
              "  2,\n",
              "  92,\n",
              "  452,\n",
              "  2,\n",
              "  123,\n",
              "  468,\n",
              "  2,\n",
              "  0,\n",
              "  0,\n",
              "  0,\n",
              "  251,\n",
              "  469,\n",
              "  2,\n",
              "  0,\n",
              "  0,\n",
              "  0,\n",
              "  162,\n",
              "  551,\n",
              "  2],\n",
              " 'num_keypoints': 10,\n",
              " 'segmentation': [[125.12,\n",
              "   539.69,\n",
              "   140.94,\n",
              "   522.43,\n",
              "   100.67,\n",
              "   496.54,\n",
              "   84.85,\n",
              "   469.21,\n",
              "   73.35,\n",
              "   450.52,\n",
              "   104.99,\n",
              "   342.65,\n",
              "   168.27,\n",
              "   290.88,\n",
              "   179.78,\n",
              "   288,\n",
              "   189.84,\n",
              "   286.56,\n",
              "   191.28,\n",
              "   260.67,\n",
              "   202.79,\n",
              "   240.54,\n",
              "   221.48,\n",
              "   237.66,\n",
              "   248.81,\n",
              "   243.42,\n",
              "   257.44,\n",
              "   256.36,\n",
              "   253.12,\n",
              "   262.11,\n",
              "   253.12,\n",
              "   275.06,\n",
              "   299.15,\n",
              "   233.35,\n",
              "   329.35,\n",
              "   207.46,\n",
              "   355.24,\n",
              "   206.02,\n",
              "   363.87,\n",
              "   206.02,\n",
              "   365.3,\n",
              "   210.34,\n",
              "   373.93,\n",
              "   221.84,\n",
              "   363.87,\n",
              "   226.16,\n",
              "   363.87,\n",
              "   237.66,\n",
              "   350.92,\n",
              "   237.66,\n",
              "   332.22,\n",
              "   234.79,\n",
              "   314.97,\n",
              "   249.17,\n",
              "   271.82,\n",
              "   313.89,\n",
              "   253.12,\n",
              "   326.83,\n",
              "   227.24,\n",
              "   352.72,\n",
              "   214.29,\n",
              "   357.03,\n",
              "   212.85,\n",
              "   372.85,\n",
              "   208.54,\n",
              "   395.87,\n",
              "   228.67,\n",
              "   414.56,\n",
              "   245.93,\n",
              "   421.75,\n",
              "   266.07,\n",
              "   424.63,\n",
              "   276.13,\n",
              "   437.57,\n",
              "   266.07,\n",
              "   450.52,\n",
              "   284.76,\n",
              "   464.9,\n",
              "   286.2,\n",
              "   479.28,\n",
              "   291.96,\n",
              "   489.35,\n",
              "   310.65,\n",
              "   512.36,\n",
              "   284.76,\n",
              "   549.75,\n",
              "   244.49,\n",
              "   522.43,\n",
              "   215.73,\n",
              "   546.88,\n",
              "   199.91,\n",
              "   558.38,\n",
              "   204.22,\n",
              "   565.57,\n",
              "   189.84,\n",
              "   568.45,\n",
              "   184.09,\n",
              "   575.64,\n",
              "   172.58,\n",
              "   578.52,\n",
              "   145.26,\n",
              "   567.01,\n",
              "   117.93,\n",
              "   551.19,\n",
              "   133.75,\n",
              "   532.49]]}"
            ]
          },
          "metadata": {
            "tags": []
          },
          "execution_count": 49
        }
      ]
    },
    {
      "cell_type": "code",
      "metadata": {
        "id": "HPBplfMPSbK2",
        "colab_type": "code",
        "colab": {}
      },
      "source": [
        ""
      ],
      "execution_count": 0,
      "outputs": []
    }
  ]
}